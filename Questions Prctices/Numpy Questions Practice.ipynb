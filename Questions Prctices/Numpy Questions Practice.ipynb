{
 "cells": [
  {
   "cell_type": "markdown",
   "id": "ecb12ae8-73ea-4eae-9438-ef4052bb8b35",
   "metadata": {},
   "source": [
    " # What is NumPy?\n",
    " NumPy (Numerical Python) is an open-source Python library used for numerical computing.\n",
    " It provides support for large multidimensional arrays and matrices, along with a collection of\n",
    " high-level mathematical functions to operate on these arrays."
   ]
  },
  {
   "cell_type": "markdown",
   "id": "29b19dc3-6515-4427-ba9c-1341657ccaa2",
   "metadata": {},
   "source": [
    "#  Why Use NumPy?\n",
    " 1.Efficient memory storage and performance\n",
    " \n",
    " 2.Broad range of mathematical, logical, shape manipulation, sorting, selecting, I/O, and linear algebra functions\n",
    " \n",
    " 3.Foundation for most Python data science libraries (e.g., Pandas, Scikit-learn)"
   ]
  },
  {
   "cell_type": "code",
   "execution_count": 1,
   "id": "01cc255d-b331-43ee-94ad-e300d4e7f7c0",
   "metadata": {},
   "outputs": [
    {
     "name": "stdout",
     "output_type": "stream",
     "text": [
      "4\n"
     ]
    }
   ],
   "source": [
    "import numpy as np\n",
    "a=([1,2,3,4])\n",
    "b=np.array(a)\n",
    "max_number=np.max(b)\n",
    "print(max_number)"
   ]
  },
  {
   "cell_type": "code",
   "execution_count": 2,
   "id": "df7d95a2-99f0-41b3-8c93-9c4bcc315de8",
   "metadata": {},
   "outputs": [
    {
     "data": {
      "text/plain": [
       "array([1, 2, 3, 4])"
      ]
     },
     "execution_count": 2,
     "metadata": {},
     "output_type": "execute_result"
    }
   ],
   "source": [
    "b"
   ]
  },
  {
   "cell_type": "code",
   "execution_count": 3,
   "id": "6e6b7956-1a24-4c36-82d6-48c7c2436bfc",
   "metadata": {},
   "outputs": [
    {
     "data": {
      "text/plain": [
       "[1, 2, 3, 4]"
      ]
     },
     "execution_count": 3,
     "metadata": {},
     "output_type": "execute_result"
    }
   ],
   "source": [
    "a"
   ]
  },
  {
   "cell_type": "code",
   "execution_count": 4,
   "id": "e1e4fcad-950c-49c1-9359-c01ff82fa8ca",
   "metadata": {},
   "outputs": [
    {
     "data": {
      "text/plain": [
       "array([ 0,  3,  6,  9, 12, 15, 18])"
      ]
     },
     "execution_count": 4,
     "metadata": {},
     "output_type": "execute_result"
    }
   ],
   "source": [
    "np.arange(0,20,3)"
   ]
  },
  {
   "cell_type": "code",
   "execution_count": 5,
   "id": "ae2995ac-c2f6-4a75-b388-137886756652",
   "metadata": {},
   "outputs": [
    {
     "data": {
      "text/plain": [
       "array([0. , 0.5, 1. ])"
      ]
     },
     "execution_count": 5,
     "metadata": {},
     "output_type": "execute_result"
    }
   ],
   "source": [
    "np.linspace(0,1,3)"
   ]
  },
  {
   "cell_type": "code",
   "execution_count": 6,
   "id": "1f6cdd71-97e0-49b7-933e-f4a0dd0a797c",
   "metadata": {},
   "outputs": [
    {
     "data": {
      "text/plain": [
       "array([0, 1])"
      ]
     },
     "execution_count": 6,
     "metadata": {},
     "output_type": "execute_result"
    }
   ],
   "source": [
    "np.linspace(0,1,2, dtype=int)"
   ]
  },
  {
   "cell_type": "code",
   "execution_count": 7,
   "id": "7eb85ee6-3b73-4d6c-ba75-047736fca247",
   "metadata": {},
   "outputs": [
    {
     "data": {
      "text/plain": [
       "array([0, 0, 1])"
      ]
     },
     "execution_count": 7,
     "metadata": {},
     "output_type": "execute_result"
    }
   ],
   "source": [
    "np.linspace(0,1,3, dtype=int)"
   ]
  },
  {
   "cell_type": "code",
   "execution_count": null,
   "id": "a57bf7f9-051c-46ab-807a-aede2a2a26f8",
   "metadata": {},
   "outputs": [],
   "source": []
  },
  {
   "cell_type": "markdown",
   "id": "f4dee5d4-06af-4dee-9da6-3ecc5ed6ae1f",
   "metadata": {},
   "source": [
    " Que:1. Create a 1D NumPy array of numbers from 0 to 9"
   ]
  },
  {
   "cell_type": "code",
   "execution_count": 8,
   "id": "f5c01fae-bef3-406e-923e-6f0333a9caf2",
   "metadata": {},
   "outputs": [
    {
     "data": {
      "text/plain": [
       "array([0, 1, 2, 3, 4, 5, 6, 7, 8, 9])"
      ]
     },
     "execution_count": 8,
     "metadata": {},
     "output_type": "execute_result"
    }
   ],
   "source": [
    "#Que:1. Create a 1D NumPy array of numbers from 0 to 9\n",
    "import numpy as np\n",
    "arr=np.arange(10)\n",
    "arr"
   ]
  },
  {
   "cell_type": "markdown",
   "id": "dfd6d24b-8dcb-4694-9595-725ec0877899",
   "metadata": {},
   "source": [
    " 2. Create a 3×3 array filled with zeros"
   ]
  },
  {
   "cell_type": "code",
   "execution_count": 9,
   "id": "c8f85aa2-4937-47a3-9827-4ba0b417dd81",
   "metadata": {},
   "outputs": [
    {
     "data": {
      "text/plain": [
       "array([[0., 0., 0.],\n",
       "       [0., 0., 0.],\n",
       "       [0., 0., 0.]])"
      ]
     },
     "execution_count": 9,
     "metadata": {},
     "output_type": "execute_result"
    }
   ],
   "source": [
    "#que 2: 2. Create a 3×3 array filled with zeros\n",
    "arr=np.zeros((3,3))\n",
    "arr"
   ]
  },
  {
   "cell_type": "code",
   "execution_count": 10,
   "id": "71f2c562-5cb5-4096-9a1e-4b386dfaa250",
   "metadata": {},
   "outputs": [
    {
     "data": {
      "text/plain": [
       "array([[1., 1., 1.],\n",
       "       [1., 1., 1.],\n",
       "       [1., 1., 1.]])"
      ]
     },
     "execution_count": 10,
     "metadata": {},
     "output_type": "execute_result"
    }
   ],
   "source": [
    "arr=np.ones((3,3))\n",
    "arr"
   ]
  },
  {
   "cell_type": "code",
   "execution_count": 11,
   "id": "50415254-194e-4d24-9bf1-2049ec761c3f",
   "metadata": {},
   "outputs": [
    {
     "data": {
      "text/plain": [
       "array([[1, 1, 1],\n",
       "       [1, 1, 1],\n",
       "       [1, 1, 1]])"
      ]
     },
     "execution_count": 11,
     "metadata": {},
     "output_type": "execute_result"
    }
   ],
   "source": [
    "arr=np.ones((3,3),dtype=int)\n",
    "arr"
   ]
  },
  {
   "cell_type": "markdown",
   "id": "791200e1-1d60-4c05-ab55-b3289cd7b542",
   "metadata": {},
   "source": [
    "Que 3: Create a 3×3 identity matrix"
   ]
  },
  {
   "cell_type": "code",
   "execution_count": 12,
   "id": "eff84a62-ba5e-46da-99de-d17014cac91e",
   "metadata": {},
   "outputs": [
    {
     "data": {
      "text/plain": [
       "array([[1., 0., 0.],\n",
       "       [0., 1., 0.],\n",
       "       [0., 0., 1.]])"
      ]
     },
     "execution_count": 12,
     "metadata": {},
     "output_type": "execute_result"
    }
   ],
   "source": [
    "#que 3: Create a 3×3 identity matrix\n",
    "arr=np.eye(3)\n",
    "arr"
   ]
  },
  {
   "cell_type": "markdown",
   "id": "76832776-72f3-4371-aada-10e041229522",
   "metadata": {},
   "source": [
    "Que 4:Create a 5×5 matrix with values from 1 to 25"
   ]
  },
  {
   "cell_type": "code",
   "execution_count": 13,
   "id": "1dcf12e7-ea22-43c1-8cc4-85382de02282",
   "metadata": {},
   "outputs": [
    {
     "data": {
      "text/plain": [
       "array([[ 1,  2,  3,  4,  5],\n",
       "       [ 6,  7,  8,  9, 10],\n",
       "       [11, 12, 13, 14, 15],\n",
       "       [16, 17, 18, 19, 20],\n",
       "       [21, 22, 23, 24, 25]])"
      ]
     },
     "execution_count": 13,
     "metadata": {},
     "output_type": "execute_result"
    }
   ],
   "source": [
    "#Que 4:Create a 5×5 matrix with values from 1 to 25\n",
    "arr=np.arange(1,26).reshape(5,5)\n",
    "arr"
   ]
  },
  {
   "cell_type": "markdown",
   "id": "1fd95115-f6ff-4c7b-9386-564547397a1a",
   "metadata": {},
   "source": [
    "Que 5: Convert a list to a NumPy array"
   ]
  },
  {
   "cell_type": "code",
   "execution_count": 14,
   "id": "c1f0ade1-1621-41e4-936f-89e4537cb940",
   "metadata": {},
   "outputs": [
    {
     "data": {
      "text/plain": [
       "array(<class 'list'>, dtype=object)"
      ]
     },
     "execution_count": 14,
     "metadata": {},
     "output_type": "execute_result"
    }
   ],
   "source": [
    "#Que 5: Convert a list to a NumPy array\n",
    "list([1,2,3,4,5,6,7])\n",
    "arr=np.array(list)\n",
    "arr"
   ]
  },
  {
   "cell_type": "code",
   "execution_count": 15,
   "id": "db04deda-1319-4eb7-8487-c2eb811f393d",
   "metadata": {},
   "outputs": [
    {
     "data": {
      "text/plain": [
       "array([1, 2, 3, 4, 5, 6, 7])"
      ]
     },
     "execution_count": 15,
     "metadata": {},
     "output_type": "execute_result"
    }
   ],
   "source": [
    "list=([1,2,3,4,5,6,7])\n",
    "arr=np.array(list)\n",
    "arr"
   ]
  },
  {
   "cell_type": "code",
   "execution_count": 16,
   "id": "86bf37fb-468a-449a-b196-e792cd68b1c5",
   "metadata": {},
   "outputs": [
    {
     "name": "stdout",
     "output_type": "stream",
     "text": [
      "[1 2 3 4 5]\n"
     ]
    }
   ],
   "source": [
    "import numpy as np\n",
    "my_list = [1, 2, 3, 4, 5]\n",
    "arr = np.array(my_list)\n",
    "print(arr)"
   ]
  },
  {
   "cell_type": "code",
   "execution_count": 17,
   "id": "53a21eb9-e62a-42f3-809b-a3fbb238f015",
   "metadata": {},
   "outputs": [
    {
     "name": "stdout",
     "output_type": "stream",
     "text": [
      "[[1 2]\n",
      " [3 4]]\n"
     ]
    }
   ],
   "source": [
    "# For 2D array\n",
    "my_list_2d = [[1, 2], [3, 4]]\n",
    "arr_2d = np.array(my_list_2d)\n",
    "print(arr_2d)"
   ]
  },
  {
   "cell_type": "markdown",
   "id": "5c55207a-d752-4890-9551-8389f643e4cd",
   "metadata": {},
   "source": [
    "Que 6: Replace all odd numbers in a NumPy array with -1"
   ]
  },
  {
   "cell_type": "code",
   "execution_count": 18,
   "id": "341185d3-8ff8-4fb2-8e00-6a67bb30a1b8",
   "metadata": {},
   "outputs": [
    {
     "data": {
      "text/plain": [
       "array([ 0, -1,  2, -1,  4, -1,  6, -1,  8, -1])"
      ]
     },
     "execution_count": 18,
     "metadata": {},
     "output_type": "execute_result"
    }
   ],
   "source": [
    "# Que 6: Replace all odd numbers in a NumPy array with -1\n",
    "arr= np.arange(10)\n",
    "arr[arr % 2==1] = -1\n",
    "arr"
   ]
  },
  {
   "cell_type": "code",
   "execution_count": 19,
   "id": "35b8011b-54c9-4f73-b227-144b26ab5488",
   "metadata": {},
   "outputs": [
    {
     "data": {
      "text/plain": [
       "array([10, -5, 12, -5, 14, -5, 16, -5, 18, -5])"
      ]
     },
     "execution_count": 19,
     "metadata": {},
     "output_type": "execute_result"
    }
   ],
   "source": [
    "arr = np.arange(10,20)\n",
    "arr[arr % 2==1] = -5\n",
    "arr"
   ]
  },
  {
   "cell_type": "markdown",
   "id": "df5a1a6d-e166-4ec3-8653-299bb471e311",
   "metadata": {},
   "source": [
    "Replace all even numbers in a NumPy array with -7"
   ]
  },
  {
   "cell_type": "code",
   "execution_count": 20,
   "id": "b59e7538-9324-4c36-adee-80f470bb33d8",
   "metadata": {},
   "outputs": [
    {
     "data": {
      "text/plain": [
       "array([-7, 11, -7, 13, -7, 15, -7, 17, -7, 19])"
      ]
     },
     "execution_count": 20,
     "metadata": {},
     "output_type": "execute_result"
    }
   ],
   "source": [
    "# Replace all even numbers in a NumPy array with -7\n",
    "arr = np.arange(10,20)\n",
    "arr[arr % 2==0] = -7\n",
    "arr"
   ]
  },
  {
   "cell_type": "markdown",
   "id": "3199d078-16f0-4d82-8beb-f4aefbaba08f",
   "metadata": {},
   "source": [
    " 8. Find the maximum and minimum of a NumPy array"
   ]
  },
  {
   "cell_type": "code",
   "execution_count": 21,
   "id": "199c53e5-f7d9-4de2-a61c-1ea993eda429",
   "metadata": {},
   "outputs": [
    {
     "name": "stdout",
     "output_type": "stream",
     "text": [
      "2\n",
      "77\n"
     ]
    }
   ],
   "source": [
    "arr = np.array([2,6,22,77,72])\n",
    "min_num = np.min(arr)\n",
    "max_num =np.max(arr)\n",
    "print(min_num)\n",
    "print(max_num)"
   ]
  },
  {
   "cell_type": "code",
   "execution_count": 22,
   "id": "3d1fd1c5-6e38-45b5-9422-0893ef16a941",
   "metadata": {},
   "outputs": [
    {
     "ename": "SyntaxError",
     "evalue": "invalid character '−' (U+2212) (3274427947.py, line 2)",
     "output_type": "error",
     "traceback": [
      "\u001b[1;36m  Cell \u001b[1;32mIn[22], line 2\u001b[1;36m\u001b[0m\n\u001b[1;33m    normalized_value =(𝑥−min(𝑥))/(max(𝑥)−min(𝑥))\u001b[0m\n\u001b[1;37m                        ^\u001b[0m\n\u001b[1;31mSyntaxError\u001b[0m\u001b[1;31m:\u001b[0m invalid character '−' (U+2212)\n"
     ]
    }
   ],
   "source": [
    " To normalize a NumPy array (scale values between 0 and 1), you use the Min-Max normalization formula:\n",
    "normalized_value =(𝑥−min(𝑥))/(max(𝑥)−min(𝑥))\n",
    "\n",
    "🧠 Meaning:\n",
    "Normalization is used to scale data within a fixed range (usually 0 to 1) to make it easier to compare values and improve the performance of algorithms (especially in machine learning and image processing).\n",
    "It preserves the distribution of the data but changes the scale."
   ]
  },
  {
   "cell_type": "markdown",
   "id": "00db2f6e-041b-4f2f-b81a-f1df10ed2b4b",
   "metadata": {},
   "source": [
    "9. Normalize a NumPy array (scale between 0 and 1)"
   ]
  },
  {
   "cell_type": "code",
   "execution_count": null,
   "id": "8175968f-b2b7-42f6-ae30-d158db8c005a",
   "metadata": {},
   "outputs": [],
   "source": [
    "import numpy as np\n",
    "arr = np.array([10, 20, 30, 40, 50])\n",
    "# Min-Max Normalization\n",
    "normalized_arr = (arr - arr.min()) / (arr.max() - arr.min())\n",
    "print(\"Original:\", arr)\n",
    "print(\"Normalized:\", normalized_arr)"
   ]
  },
  {
   "cell_type": "code",
   "execution_count": null,
   "id": "08b396dd-1af4-4046-9b96-dfc9b107bfde",
   "metadata": {},
   "outputs": [],
   "source": [
    "#Que 9 :Normalize a NumPy array (scale between 0 and 1)\n",
    "arr = np.array([1,2,3,4,5])\n",
    "normalized = (arr - np.min(arr)) / (np.max(arr) - np.min(arr))\n",
    "print(normalized)"
   ]
  },
  {
   "cell_type": "markdown",
   "id": "ab8178cf-80bf-4f2e-ae2d-afd981faa1b8",
   "metadata": {},
   "source": [
    "10. Get the common elements between two NumPy arrays"
   ]
  },
  {
   "cell_type": "code",
   "execution_count": null,
   "id": "ac81127c-b7b7-4aa1-8318-94be2acb9789",
   "metadata": {},
   "outputs": [],
   "source": [
    "#Que 10:Get the common elements between two NumPy arrays\n",
    "a=np.array([1,2,3,4])\n",
    "b=np.array([3,4,5,6])\n",
    "print(np.intersect1d(a,b))"
   ]
  },
  {
   "cell_type": "markdown",
   "id": "e64fe3e4-c5f3-40aa-ac86-964c95da7590",
   "metadata": {},
   "source": [
    " 11. Create a 10x10 array with random values and find the mean of each row"
   ]
  },
  {
   "cell_type": "code",
   "execution_count": null,
   "id": "37be10e3-700b-4222-b966-9bf560a9282a",
   "metadata": {},
   "outputs": [],
   "source": [
    "#Que 11:Create a 10x10 array with random values and find the mean of each row \n",
    "arr = np.random.rand(10 , 10)\n",
    "row_mean = arr.mean(axis =1)\n",
    "print(row_mean)"
   ]
  },
  {
   "cell_type": "code",
   "execution_count": null,
   "id": "9a305569-7458-4646-9a18-91f96905635a",
   "metadata": {},
   "outputs": [],
   "source": [
    "#Que : write a code using numpy function to multiply both array.\n",
    "a=np.array([2,3,4])\n",
    "b=np.array([2,3,4])\n",
    "print(np.dot(a,b))"
   ]
  },
  {
   "cell_type": "markdown",
   "id": "e7c2d489-4476-4eb7-bafb-2b1461328537",
   "metadata": {},
   "source": [
    "12. Reverse a NumPy array"
   ]
  },
  {
   "cell_type": "code",
   "execution_count": null,
   "id": "44e79b09-855f-48a3-9d4f-d2397f955be1",
   "metadata": {},
   "outputs": [],
   "source": [
    "#Que 12: Reverse a NumPy array\n",
    "arr = np.array([1,2,3,4])\n",
    "print(arr[::-1])"
   ]
  },
  {
   "cell_type": "markdown",
   "id": "4c0e4500-ae4b-4e6d-989b-e18752df9249",
   "metadata": {},
   "source": [
    "13. Find the position of the maximum element in a 2D array"
   ]
  },
  {
   "cell_type": "code",
   "execution_count": null,
   "id": "584f7488-7b3e-4685-b776-7f5f355308e6",
   "metadata": {},
   "outputs": [],
   "source": [
    "#Que 13:Find the position of the maximum element in a 2D array\n",
    "arr = np.random.randint(1,100,(3,3))\n",
    "print(arr)\n",
    "print(np.argmax(arr))\n",
    "print(np.unravel_index(np.argmax(arr),arr.shape))"
   ]
  },
  {
   "cell_type": "code",
   "execution_count": null,
   "id": "34247f4c-ab9b-42cc-9228-a7c8dd087792",
   "metadata": {},
   "outputs": [],
   "source": [
    "arr = np.random.randint(1,100,(3,3))\n",
    "print(np.argmax(arr))\n",
    "print(np.unravel_index(np.argmax(arr),arr.shape))"
   ]
  },
  {
   "cell_type": "code",
   "execution_count": null,
   "id": "fe152113-53b9-4fa3-a894-6856e83f0439",
   "metadata": {},
   "outputs": [],
   "source": [
    "arr = np.random.randint(1,100,(3,3))\n",
    "print(arr)\n",
    "print(np.argmax(arr))"
   ]
  },
  {
   "cell_type": "code",
   "execution_count": null,
   "id": "2c9c3cde-9e7a-4b5a-b36d-28be777feff9",
   "metadata": {},
   "outputs": [],
   "source": [
    "arr = np.random.randint(1,100,(3,3))\n",
    "print(arr)\n",
    "print(np.unravel_index(np.argmax(arr),arr.shape))"
   ]
  },
  {
   "cell_type": "code",
   "execution_count": null,
   "id": "eba95281-39ef-4530-97eb-f4595abb91cb",
   "metadata": {},
   "outputs": [],
   "source": [
    "arr = np.random.randint(1,100,(3,3))\n",
    "print(arr)\n",
    "print(np.unravel_index(np.argmin(arr),arr.shape))"
   ]
  },
  {
   "cell_type": "code",
   "execution_count": null,
   "id": "572ff9f6-9a15-4a7a-b7b3-65e5f95797b9",
   "metadata": {},
   "outputs": [],
   "source": [
    "arr = np.random.randint(1,100,(3,3))\n",
    "print(arr)\n",
    "print(np.argmin(arr))"
   ]
  },
  {
   "cell_type": "markdown",
   "id": "fb7756d0-84a3-4615-90c3-cf0afcb474a9",
   "metadata": {},
   "source": [
    "14. Replace NaN values with zero"
   ]
  },
  {
   "cell_type": "code",
   "execution_count": null,
   "id": "c4c86c12-0580-4097-8502-53e0f3721bfa",
   "metadata": {},
   "outputs": [],
   "source": [
    "# Que 14:Replace NaN values with zero (Here NaN stand for Not-a-Number)\n",
    "arr = np.array([1,2,np.nan,4])\n",
    "arr = np.nan_to_num(arr)\n",
    "print(arr)"
   ]
  },
  {
   "cell_type": "code",
   "execution_count": null,
   "id": "f233db9e-833e-4ce6-aeef-5a3af553ac66",
   "metadata": {},
   "outputs": [],
   "source": [
    "arr = np.array([1,2,np.nan,4])\n",
    "arr = np.nan_to_num(arr, nan=-1)\n",
    "print(arr)"
   ]
  },
  {
   "cell_type": "markdown",
   "id": "da30d9c6-504a-4f6e-9346-1a6c35775fe9",
   "metadata": {},
   "source": [
    "15. Flatten a multi-dimensional array"
   ]
  },
  {
   "cell_type": "code",
   "execution_count": null,
   "id": "2a1009d2-b7a0-4b9e-a9ae-fe9127185a81",
   "metadata": {},
   "outputs": [],
   "source": [
    "#Que 15:Flatten a multi-dimensional array\n",
    "arr=np.array([[1,2],[3,4]])\n",
    "print(\"Original array:\\n\",arr)\n",
    "flat=arr.flatten()\n",
    "print(flat)"
   ]
  },
  {
   "cell_type": "markdown",
   "id": "1abba41d-1596-454f-b8ff-14412fd0512d",
   "metadata": {},
   "source": [
    "16. Create a checkerboard pattern (8x8)"
   ]
  },
  {
   "cell_type": "code",
   "execution_count": null,
   "id": "2abdfb25-2741-4451-b0d6-17554e0db5c9",
   "metadata": {},
   "outputs": [],
   "source": [
    "#Que 16:Create a checkerboard pattern (8x8)\n",
    "arr = np.zeros((8,8))\n",
    "arr[1::2 , ::2] = 1\n",
    "arr[::2 , 1::2] = 1\n",
    "print(arr)"
   ]
  },
  {
   "cell_type": "code",
   "execution_count": null,
   "id": "e1f2b3a1-e84d-4acb-8509-c766fc093b6b",
   "metadata": {},
   "outputs": [],
   "source": [
    "\"\"\"arr[1::2, ::2] = 1\n",
    "Selects rows starting from index 1 with step 2 → rows: 1, 3, 5, 7\n",
    "In those rows, selects columns starting from 0 with step 2 → cols: 0, 2, 4, 6\n",
    "Sets those positions to 1\"\"\"\n",
    "\n",
    "arr = np.zeros((8,8),dtype=int)\n",
    "arr[1::2 , ::2] = 1\n",
    "arr[::2 , 1::2] = 1\n",
    "print(arr)"
   ]
  },
  {
   "cell_type": "markdown",
   "id": "96820c08-f62c-4256-a817-782de46f7de1",
   "metadata": {},
   "source": [
    "17. Create a 100x100 matrix and compute the sum of all values"
   ]
  },
  {
   "cell_type": "code",
   "execution_count": null,
   "id": "9c7feeed-dbab-4eb2-bca9-2d1d6701a786",
   "metadata": {},
   "outputs": [],
   "source": [
    "#Que 17:Create a 100x100 matrix and compute the sum of all values\n",
    "import numpy as np\n",
    "arr = np.random.rand(100, 100)\n",
    "print('Original array:\\n', arr)\n",
    "total = np.sum(arr)\n",
    "print(\"Total sum =\", total)"
   ]
  },
  {
   "cell_type": "markdown",
   "id": "d2bd3080-f906-49c2-bdf5-a5738cd7ec1b",
   "metadata": {},
   "source": [
    "18. Extract all numbers between 30 and 70 in a NumPy array"
   ]
  },
  {
   "cell_type": "code",
   "execution_count": null,
   "id": "a3e489fd-7893-4766-acff-18ac14cea4d4",
   "metadata": {},
   "outputs": [],
   "source": [
    "# Que 18: Extract all numbers between 30 and 70 in a NumPy array\n",
    "arr = np.arange(100)\n",
    "print(arr[(arr > 30) & (arr <70)])"
   ]
  },
  {
   "cell_type": "markdown",
   "id": "ee367ec9-7fca-40a8-a135-44b62605a57a",
   "metadata": {},
   "source": [
    "19. Convert a float array to integer without roundin"
   ]
  },
  {
   "cell_type": "code",
   "execution_count": null,
   "id": "74fd58ca-9625-4194-b9e5-7d7e7b1b37e6",
   "metadata": {},
   "outputs": [],
   "source": [
    "#Que 19:Convert a float array to integer without roundin\n",
    "arr = np.array([1.5 , 2.3 , 3.9])\n",
    "print(arr.astype(int))"
   ]
  },
  {
   "cell_type": "markdown",
   "id": "e16350bc-60f7-4a49-943b-91ea3082c6f5",
   "metadata": {},
   "source": [
    " 20. Stack two arrays vertically and horizontally"
   ]
  },
  {
   "cell_type": "code",
   "execution_count": null,
   "id": "16011662-8c4f-4947-9a31-251ce31631b1",
   "metadata": {},
   "outputs": [],
   "source": [
    "#Que 20:Stack two arrays vertically and horizontally\n",
    "a = np.array([[1,2] , [3,4]])\n",
    "b = np.array([[5,6] , [7,8]])\n",
    "print(np.vstack((a , b)))\n",
    "print(np.hstack((a,b)))"
   ]
  },
  {
   "cell_type": "code",
   "execution_count": null,
   "id": "37040370-156e-4544-90a6-0fbfe3c85688",
   "metadata": {},
   "outputs": [],
   "source": [
    "a = np.array([[1, 2], [3, 4]])\n",
    "b = np.array([[5, 6], [7, 8]])\n",
    "vstack = np.vstack((a, b))\n",
    "hstack = np.hstack((a, b))\n",
    "print(\"Vertical:\\n\", vstack)\n",
    "print(\"Horizontal:\\n\", hstack)"
   ]
  },
  {
   "cell_type": "code",
   "execution_count": null,
   "id": "47dddc4a-6b7a-477d-9635-2521398bde5f",
   "metadata": {},
   "outputs": [],
   "source": [
    "import numpy as np\n",
    "a = np.array([[1, 2], [3, 4]])\n",
    "b = np.array([[5, 6], [7, 8]])\n",
    "# Vertical stacking\n",
    "print(\"Vertical Array:\")\n",
    "print(np.vstack((a, b)))\n",
    "# Horizontal stacking\n",
    "print(\"Horizontal Array:\")\n",
    "print(np.hstack((a, b)))"
   ]
  },
  {
   "cell_type": "markdown",
   "id": "259ebf95-da2e-49d1-a0f8-2cc4b562bcb1",
   "metadata": {},
   "source": [
    "21. How to reshape a 1D array to 3x3?"
   ]
  },
  {
   "cell_type": "code",
   "execution_count": null,
   "id": "a3f46adf-0904-4ea2-88a4-6e0163b798e7",
   "metadata": {},
   "outputs": [],
   "source": [
    "#21. How to reshape a 1D array to 3x3?\n",
    "arr = np.arange(9)\n",
    "print('Array:',arr)\n",
    "reshaped = arr.reshape(3, 3)\n",
    "print(reshaped)"
   ]
  },
  {
   "cell_type": "markdown",
   "id": "e7e168fa-c064-43ef-96c2-a315fff02ab5",
   "metadata": {},
   "source": [
    "22.What is broadcasting in NumPy?"
   ]
  },
  {
   "cell_type": "code",
   "execution_count": null,
   "id": "1a2adf50-482d-4522-ae43-ec3c26756a80",
   "metadata": {},
   "outputs": [],
   "source": [
    "#22.What is broadcasting in NumPy?\n",
    "a = np.array([1, 2, 3])\n",
    "b = 2\n",
    "result = a * b\n",
    "print(result)"
   ]
  },
  {
   "cell_type": "markdown",
   "id": "afa13c83-2eb7-411d-ae54-bc3c5f0b4cc2",
   "metadata": {},
   "source": [
    "23. How to perform element-wise operations on two arrays?"
   ]
  },
  {
   "cell_type": "code",
   "execution_count": null,
   "id": "91a6bae3-9dbe-4dc7-98b2-1697d1106265",
   "metadata": {},
   "outputs": [],
   "source": [
    "# 23.How to perform element-wise operations on two arrays?\n",
    "a = np.array([1, 2, 3])\n",
    "b = np.array([4, 5, 6])\n",
    "print(a + b)\n",
    "print(a * b)\n",
    "print(a-b)\n",
    "print(a/b)\n",
    "print(a//b)\n",
    "print(a%b)"
   ]
  },
  {
   "cell_type": "markdown",
   "id": "96025de7-6a7b-425d-bc6f-c7914a7f5e71",
   "metadata": {},
   "source": [
    "24. How to find the mean, median, std deviation of an array?"
   ]
  },
  {
   "cell_type": "code",
   "execution_count": null,
   "id": "cdd3c05c-6c51-4e58-b1dd-0fab5abeda8f",
   "metadata": {},
   "outputs": [],
   "source": [
    "# 24. How to find the mean, median, std deviation of an array?\n",
    "arr = np.array([1, 2, 3, 4, 5])\n",
    "print(\"Mean:\", np.mean(arr))\n",
    "print(\"Median:\", np.median(arr))\n",
    "print(\"Std Dev:\", np.std(arr))"
   ]
  },
  {
   "cell_type": "markdown",
   "id": "19a02ad9-fd13-4b36-977f-faed9f0751d1",
   "metadata": {},
   "source": [
    "25. How to find the index of maximum and minimum element?"
   ]
  },
  {
   "cell_type": "code",
   "execution_count": null,
   "id": "293a43a3-bc7c-45d0-9378-06d8425981f6",
   "metadata": {},
   "outputs": [],
   "source": [
    "# 25. How to find the index of maximum and minimum element?\n",
    "arr = np.array([10, 20, 5, 30])\n",
    "print(\"Max index:\", np.argmax(arr))\n",
    "print(\"Min index:\", np.argmin(arr))"
   ]
  },
  {
   "cell_type": "markdown",
   "id": "cd10a891-d083-4114-9bcd-50f7e2ade375",
   "metadata": {},
   "source": [
    "26. How to filter elements less than 10 in an array?"
   ]
  },
  {
   "cell_type": "code",
   "execution_count": null,
   "id": "414ecbc7-8f25-4ca3-b9f4-b74abe4c461c",
   "metadata": {},
   "outputs": [],
   "source": [
    "# 26.How to filter elements less than 10 in an array?\n",
    "arr = np.array([5, 12, 18, 7, 3])\n",
    "filtered = arr[arr < 10]\n",
    "print(filtered)"
   ]
  },
  {
   "cell_type": "markdown",
   "id": "bdc5ebe4-1efb-4c9b-89fa-0f966d3f9570",
   "metadata": {},
   "source": [
    "27. How to get unique values from an array?"
   ]
  },
  {
   "cell_type": "code",
   "execution_count": null,
   "id": "4702b648-c7f0-4653-b392-d52938e5b87e",
   "metadata": {},
   "outputs": [],
   "source": [
    "# 27. How to get unique values from an array?\n",
    "arr=([1,22,3,3,4,4,5,6,6,7])\n",
    "print(arr)\n",
    "unique=np.unique(arr)\n",
    "print(unique)"
   ]
  },
  {
   "cell_type": "code",
   "execution_count": null,
   "id": "38b58ac1-0957-45bd-a306-59e5d7c1e96b",
   "metadata": {},
   "outputs": [],
   "source": [
    "arr=([1,22,3,3,4,4,5,6,6,7])\n",
    "print(np.unique(arr))"
   ]
  },
  {
   "cell_type": "code",
   "execution_count": null,
   "id": "3d52e639-59f3-4828-bc21-cb3234fade67",
   "metadata": {},
   "outputs": [],
   "source": [
    "arr = np.array([1, 2, 2, 3, 4, 4, 5])\n",
    "print(np.unique(arr))"
   ]
  },
  {
   "cell_type": "code",
   "execution_count": null,
   "id": "a89e464f-1432-486d-9245-2a02b2a6e633",
   "metadata": {},
   "outputs": [],
   "source": []
  },
  {
   "cell_type": "markdown",
   "id": "0a929e09-74c0-4762-b5a0-9676679edf95",
   "metadata": {},
   "source": [
    "# What is Dot Product?\n",
    "The dot product is a specific kind of multiplication between two arrays (vectors or matrices):\n",
    "\n",
    "For vectors, it gives a single number.\n",
    "\n",
    "For matrices, it gives another matrix as result (matrix multiplication)"
   ]
  },
  {
   "cell_type": "markdown",
   "id": "fd4e5748-27ea-45b1-a477-a568f907b719",
   "metadata": {},
   "source": [
    "28. How to compute dot product of two arrays?"
   ]
  },
  {
   "cell_type": "code",
   "execution_count": null,
   "id": "1432fcb5-3bdd-4b7f-8963-29dc8dbd0133",
   "metadata": {},
   "outputs": [],
   "source": [
    "# 28. How to compute dot product of two arrays?\n",
    "import numpy as np\n",
    "a = np.array([1, 2, 3])     #1×4+2×5+3×6=4+10+18=32\n",
    "b = np.array([4, 5, 6])\n",
    "result = np.dot(a, b)  # OR a @ b\n",
    "print(\"Dot Product:\", result)"
   ]
  },
  {
   "cell_type": "code",
   "execution_count": 24,
   "id": "c21f6d4d-cabb-40d8-8d63-2969fbe3efbd",
   "metadata": {},
   "outputs": [
    {
     "name": "stdout",
     "output_type": "stream",
     "text": [
      "Matrix Dot Product:\n",
      " [[19 22]\n",
      " [43 50]]\n"
     ]
    }
   ],
   "source": [
    "# Define two 2x2 matrices\n",
    "A = np.array([[1, 2],       #Row1⋅Col1=1×5+2×7=19,1×6+2×8=22\n",
    "              [3, 4]])      #Row2⋅Col1=3×5+4×7=43,3×6+4×8=50\n",
    "\n",
    "B = np.array([[5, 6],\n",
    "              [7, 8]])\n",
    "\n",
    "# Compute the matrix dot product\n",
    "result = np.dot(A, B)  # OR A @ B\n",
    "\n",
    "# Print the result\n",
    "print(\"Matrix Dot Product:\\n\", result)"
   ]
  },
  {
   "cell_type": "code",
   "execution_count": 23,
   "id": "411ba000-8e7d-4207-8816-c800364790f5",
   "metadata": {},
   "outputs": [
    {
     "name": "stdout",
     "output_type": "stream",
     "text": [
      "11\n"
     ]
    }
   ],
   "source": [
    "a = np.array([1, 2])\n",
    "b = np.array([3, 4])\n",
    "dot = np.dot(a, b)\n",
    "print(dot)"
   ]
  },
  {
   "cell_type": "markdown",
   "id": "fdbd748f-6431-475f-9f4d-3dbaa3b742ed",
   "metadata": {},
   "source": [
    "#  What is Broadcasting? \n",
    "Broadcasting lets NumPy automatically expand arrays of different shapes so operations (like addition or multiplication) can still happen element-wise."
   ]
  },
  {
   "cell_type": "code",
   "execution_count": 25,
   "id": "f826f441-1bc2-494c-a8f3-3787d13c25b6",
   "metadata": {},
   "outputs": [
    {
     "name": "stdout",
     "output_type": "stream",
     "text": [
      "a + b = [6 7 8]\n"
     ]
    }
   ],
   "source": [
    "a = np.array([1, 2, 3])\n",
    "b = 5  # scalar\n",
    "print(\"a + b =\", a + b)"
   ]
  },
  {
   "cell_type": "code",
   "execution_count": 30,
   "id": "39eb9178-cb04-4b51-98ec-9d1f89d9227f",
   "metadata": {},
   "outputs": [
    {
     "name": "stdout",
     "output_type": "stream",
     "text": [
      "[10 20 30]\n"
     ]
    }
   ],
   "source": [
    "a = np.array([1, 2, 3])\n",
    "b = 10\n",
    "print(a * b)"
   ]
  },
  {
   "cell_type": "code",
   "execution_count": 26,
   "id": "f956f708-d04d-4b3b-9fd0-f0eef5ee24c0",
   "metadata": {},
   "outputs": [
    {
     "name": "stdout",
     "output_type": "stream",
     "text": [
      "A + B:\n",
      " [[11 22 33]\n",
      " [14 25 36]]\n"
     ]
    }
   ],
   "source": [
    "A = np.array([[1, 2, 3],\n",
    "              [4, 5, 6]])\n",
    "B = np.array([10, 20, 30])\n",
    "print(\"A + B:\\n\", A + B)"
   ]
  },
  {
   "cell_type": "code",
   "execution_count": 31,
   "id": "1fdb84d7-5526-4d0f-8b2b-157a9ac82fa8",
   "metadata": {},
   "outputs": [
    {
     "name": "stdout",
     "output_type": "stream",
     "text": [
      "[[ 10  40  90]\n",
      " [ 40 100 180]]\n"
     ]
    }
   ],
   "source": [
    "#2D Array × 1D Array (Row-wise)\n",
    "A = np.array([[1, 2, 3],\n",
    "              [4, 5, 6]])\n",
    "B = np.array([10, 20, 30])\n",
    "print(A * B)"
   ]
  },
  {
   "cell_type": "code",
   "execution_count": 32,
   "id": "3cc3bfdb-7772-49ce-93de-7ecfd45cfdd9",
   "metadata": {},
   "outputs": [
    {
     "name": "stdout",
     "output_type": "stream",
     "text": [
      "[[ 10  20  30]\n",
      " [ 80 100 120]]\n"
     ]
    }
   ],
   "source": [
    "# 2D Array × Column Vector (Column-wise)\n",
    "A = np.array([[1, 2, 3],\n",
    "              [4, 5, 6]])\n",
    "B = np.array([[10],\n",
    "              [20]])\n",
    "print(A * B)"
   ]
  },
  {
   "cell_type": "markdown",
   "id": "a188687c-4787-4355-b150-c5c5d5e49f8d",
   "metadata": {},
   "source": [
    "29. How to solve a system of linear equations?"
   ]
  },
  {
   "cell_type": "code",
   "execution_count": 28,
   "id": "90b7bcfc-642b-43ed-81f6-f83403650ef2",
   "metadata": {},
   "outputs": [
    {
     "name": "stdout",
     "output_type": "stream",
     "text": [
      "Solution: [1.8 1.4]\n"
     ]
    }
   ],
   "source": [
    "#29. How to solve a system of linear equations?\n",
    "\"\"\"\n",
    "2x + y = 5  \n",
    "x + 3y = 6\n",
    "\n",
    "Ans:-\n",
    "Step 1: Solve one equation for one variable\n",
    "From Equation (2):\n",
    "x=6−3y\n",
    "\n",
    "Step 2: Substitute into the other equation\n",
    "Put into Equation (1):\n",
    "2(6−3y)+y=5\n",
    "12−6y+y=5\n",
    "12−5y=5\n",
    "−5y=5−12=−7⇒y= 5/7 =1.4\n",
    "\n",
    "Step 3: Back-substitute to find x\n",
    "x=6−3(1.4)=6−4.2=1.8\n",
    "\"\"\"\n",
    "\n",
    "import numpy as np\n",
    "# Coefficients\n",
    "A = np.array([[2, 1],\n",
    "              [1, 3]])\n",
    "# Constants on the right-hand side\n",
    "B = np.array([5, 6])\n",
    "# Solve for x\n",
    "x = np.linalg.solve(A, B)\n",
    "print(\"Solution:\", x)"
   ]
  },
  {
   "cell_type": "markdown",
   "id": "cba59b02-7b23-4c95-93b8-c6e4a6fb0ff0",
   "metadata": {},
   "source": [
    "30. How to invert a matrix?"
   ]
  },
  {
   "cell_type": "code",
   "execution_count": 33,
   "id": "e7b4cfae-c818-4b51-bfd0-3fc5f63076a7",
   "metadata": {},
   "outputs": [
    {
     "name": "stdout",
     "output_type": "stream",
     "text": [
      "[[-2.   1. ]\n",
      " [ 1.5 -0.5]]\n"
     ]
    }
   ],
   "source": [
    "#30. How to invert a matrix?\n",
    "mat = np.array([[1, 2], [3, 4]])\n",
    "inv = np.linalg.inv(mat)\n",
    "print(inv)"
   ]
  },
  {
   "cell_type": "markdown",
   "id": "6fc5a580-3818-4b6d-abf6-41302064655c",
   "metadata": {},
   "source": [
    "31. How to save and load a NumPy array to/from a file?"
   ]
  },
  {
   "cell_type": "code",
   "execution_count": 35,
   "id": "71ca5b6f-2091-4364-b38a-e21198c28307",
   "metadata": {},
   "outputs": [
    {
     "name": "stdout",
     "output_type": "stream",
     "text": [
      "[1 2 3 4 5]\n"
     ]
    }
   ],
   "source": [
    "# 31. How to save and load a NumPy array to/from a file?\n",
    "arr = np.array([1, 2, 3, 4, 5])\n",
    "np.save('my_array.npy', arr)\n",
    "\n",
    "loaded_arr = np.load('my_array.npy')\n",
    "print(loaded_arr)"
   ]
  }
 ],
 "metadata": {
  "kernelspec": {
   "display_name": "Python 3 (ipykernel)",
   "language": "python",
   "name": "python3"
  },
  "language_info": {
   "codemirror_mode": {
    "name": "ipython",
    "version": 3
   },
   "file_extension": ".py",
   "mimetype": "text/x-python",
   "name": "python",
   "nbconvert_exporter": "python",
   "pygments_lexer": "ipython3",
   "version": "3.12.7"
  }
 },
 "nbformat": 4,
 "nbformat_minor": 5
}
