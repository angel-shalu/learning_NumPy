{
 "cells": [
  {
   "cell_type": "markdown",
   "id": "cfc91b17-6321-4f90-be6f-2d50c7dc9bb6",
   "metadata": {},
   "source": [
    "# NumPy Buildin Function"
   ]
  },
  {
   "cell_type": "markdown",
   "id": "b7614da5-cf1d-450e-9759-a51ec3561020",
   "metadata": {},
   "source": [
    "# 1. Array Creation Functions"
   ]
  },
  {
   "cell_type": "code",
   "execution_count": 3,
   "id": "557e05db-162b-4a3d-a689-d0ebfea93456",
   "metadata": {},
   "outputs": [],
   "source": [
    "import numpy as np"
   ]
  },
  {
   "cell_type": "code",
   "execution_count": 4,
   "id": "0e20839c-3578-431e-a9cf-2659f83e542d",
   "metadata": {},
   "outputs": [
    {
     "name": "stdout",
     "output_type": "stream",
     "text": [
      "Array a : [1 2 3]\n"
     ]
    }
   ],
   "source": [
    "# Create an array from a list\n",
    "a = np.array([1,2,3])\n",
    "print(\"Array a :\",a)"
   ]
  },
  {
   "cell_type": "code",
   "execution_count": 5,
   "id": "7ba709a4-c5db-4020-911b-6426e47fd72a",
   "metadata": {},
   "outputs": [
    {
     "name": "stdout",
     "output_type": "stream",
     "text": [
      "Array b : [ 0  4  8 12 16]\n"
     ]
    }
   ],
   "source": [
    "# Create an array with evenly spaced values\n",
    "b = np.arange(0, 20, 4)  # Values from 0 to 20 with step 3\n",
    "print(\"Array b :\", b)"
   ]
  },
  {
   "cell_type": "code",
   "execution_count": 6,
   "id": "e2b09372-0880-49c9-970f-f3ab56d200c3",
   "metadata": {},
   "outputs": [
    {
     "name": "stdout",
     "output_type": "stream",
     "text": [
      "Array x : [[0. 0. 0.]\n",
      " [0. 0. 0.]\n",
      " [0. 0. 0.]\n",
      " [0. 0. 0.]]\n"
     ]
    }
   ],
   "source": [
    "# Create an array filled with zeros\n",
    "x = np.zeros((4,3))   #4*3 array of zeros\n",
    "print(\"Array x :\",x)"
   ]
  },
  {
   "cell_type": "code",
   "execution_count": 7,
   "id": "aaf14c51-8e48-4b06-9f38-d155d5ea2bc5",
   "metadata": {},
   "outputs": [
    {
     "name": "stdout",
     "output_type": "stream",
     "text": [
      "Array x : \n",
      " [[0. 0. 0.]\n",
      " [0. 0. 0.]\n",
      " [0. 0. 0.]\n",
      " [0. 0. 0.]]\n"
     ]
    }
   ],
   "source": [
    "# Create an array filled with zeros\n",
    "x = np.zeros((4,3))   #4*3 array of zeros\n",
    "print(\"Array x : \\n\",x)"
   ]
  },
  {
   "cell_type": "code",
   "execution_count": 8,
   "id": "0523c600-e220-4732-8879-6fe80147f28f",
   "metadata": {},
   "outputs": [
    {
     "name": "stdout",
     "output_type": "stream",
     "text": [
      "Array e:\n",
      " [[1. 1.]\n",
      " [1. 1.]\n",
      " [1. 1.]]\n"
     ]
    }
   ],
   "source": [
    "# Create an array filled with ones\n",
    "e = np.ones((3, 2))  # 3x2 array of ones\n",
    "print(\"Array e:\\n\", e)"
   ]
  },
  {
   "cell_type": "code",
   "execution_count": 9,
   "id": "004bcc64-c16c-4ad4-90db-c83461ed8d83",
   "metadata": {},
   "outputs": [
    {
     "name": "stdout",
     "output_type": "stream",
     "text": [
      "Array e:\n",
      " [[1 1]\n",
      " [1 1]\n",
      " [1 1]]\n"
     ]
    }
   ],
   "source": [
    "# Create an array filled with ones\n",
    "e = np.ones((3, 2), dtype=int)  # 3x2 array of ones wit int value\n",
    "print(\"Array e:\\n\", e)"
   ]
  },
  {
   "cell_type": "code",
   "execution_count": 10,
   "id": "5a2cfbd5-1105-483c-a552-9d1cb0ee1d3b",
   "metadata": {},
   "outputs": [
    {
     "name": "stdout",
     "output_type": "stream",
     "text": [
      "Identity matrix f:\n",
      " [[1. 0. 0. 0.]\n",
      " [0. 1. 0. 0.]\n",
      " [0. 0. 1. 0.]\n",
      " [0. 0. 0. 1.]]\n"
     ]
    }
   ],
   "source": [
    "\"\"\"np.eye(N) generates an identity matrix of size N × N.\n",
    "Identity matrix: A square matrix with:\n",
    "1’s on the main diagonal (from top-left to bottom-right).\n",
    "0’s elsewhere.\"\"\"\n",
    "\n",
    "# Create an identity matrix\n",
    "f = np.eye(4)  # 4x4 identity matrix\n",
    "print(\"Identity matrix f:\\n\", f)"
   ]
  },
  {
   "cell_type": "code",
   "execution_count": 11,
   "id": "9cb05b49-3ea7-431e-b134-a965cfae62dc",
   "metadata": {},
   "outputs": [
    {
     "name": "stdout",
     "output_type": "stream",
     "text": [
      "Identity matrix f:\n",
      " [[1 0 0 0]\n",
      " [0 1 0 0]\n",
      " [0 0 1 0]\n",
      " [0 0 0 1]]\n"
     ]
    }
   ],
   "source": [
    "# Create an identity matrix\n",
    "f = np.eye(4, dtype=int)  # 4x4 identity matrix   with int data type\n",
    "print(\"Identity matrix f:\\n\", f)"
   ]
  },
  {
   "cell_type": "code",
   "execution_count": 12,
   "id": "96c1e81d-6f2f-42ab-91a0-c1562a415fc9",
   "metadata": {},
   "outputs": [
    {
     "name": "stdout",
     "output_type": "stream",
     "text": [
      "Array g :\n",
      " [[7 7 7 7 7 7]\n",
      " [7 7 7 7 7 7]\n",
      " [7 7 7 7 7 7]]\n"
     ]
    }
   ],
   "source": [
    "g = np.full((3,6),7)    #  \tCreates an array filled with a specific value. -----3*6 matrix with 7\n",
    "print(\"Array g :\\n\",g)"
   ]
  },
  {
   "cell_type": "code",
   "execution_count": 13,
   "id": "b87939fc-e1bf-4571-afed-223eb0d8d6f8",
   "metadata": {},
   "outputs": [
    {
     "name": "stdout",
     "output_type": "stream",
     "text": [
      "Array g :\n",
      " [[7. 7. 7. 7. 7. 7.]\n",
      " [7. 7. 7. 7. 7. 7.]\n",
      " [7. 7. 7. 7. 7. 7.]]\n"
     ]
    }
   ],
   "source": [
    "g = np.full((3,6),7, dtype=float)    # with float value\n",
    "print(\"Array g :\\n\",g)"
   ]
  },
  {
   "cell_type": "code",
   "execution_count": 14,
   "id": "74561d96-193e-4cf8-9c4f-fba61998959e",
   "metadata": {},
   "outputs": [
    {
     "name": "stdout",
     "output_type": "stream",
     "text": [
      "[0.         1.66666667 3.33333333 5.        ]\n"
     ]
    }
   ],
   "source": [
    "print(np.linspace(0, 5, 4)) "
   ]
  },
  {
   "cell_type": "code",
   "execution_count": null,
   "id": "86dfb4d2-8d37-4349-98ed-f47d2b7b613c",
   "metadata": {},
   "outputs": [],
   "source": []
  },
  {
   "cell_type": "code",
   "execution_count": null,
   "id": "0b4bce05-3b46-4862-82e6-120104315dac",
   "metadata": {},
   "outputs": [],
   "source": []
  },
  {
   "cell_type": "markdown",
   "id": "add3f3a9-678b-4e2a-bcc5-7acbb5aed688",
   "metadata": {},
   "source": [
    "# 2. Array Manipulation Function\n",
    "Array Manipulation (in NumPy) \n",
    "\n",
    "Array manipulation means modifying or changing arrays after they are created to:\n",
    "\n",
    " Change their shape or structure\n",
    " -----Combine or split them\n",
    " -----Change the order of elements\n",
    " -----Add or remove elements."
   ]
  },
  {
   "cell_type": "code",
   "execution_count": 15,
   "id": "24ff0315-d3e9-45b0-b14f-70c9c78a146c",
   "metadata": {},
   "outputs": [
    {
     "name": "stdout",
     "output_type": "stream",
     "text": [
      "Reshaped array: [[1 2 3]]\n"
     ]
    }
   ],
   "source": [
    "# Reshape an array\n",
    "#Change the shape/dimensions of an array\n",
    "\n",
    "a1 = np.array([1, 2, 3])\n",
    "reshaped = np.reshape(a1, (1, 3))  # Reshape to 1x3\n",
    "print(\"Reshaped array:\", reshaped)"
   ]
  },
  {
   "cell_type": "code",
   "execution_count": 16,
   "id": "990ee9b9-0065-40cf-89b0-20c91ede0ccc",
   "metadata": {},
   "outputs": [
    {
     "name": "stdout",
     "output_type": "stream",
     "text": [
      "Reshaped array:\n",
      " [[1]\n",
      " [2]\n",
      " [3]]\n"
     ]
    }
   ],
   "source": [
    "a1 = np.array([1, 2, 3])\n",
    "reshaped = np.reshape(a1, (3, 1))  # Reshape to 3x1\n",
    "print(\"Reshaped array:\\n\", reshaped)"
   ]
  },
  {
   "cell_type": "code",
   "execution_count": 17,
   "id": "db1982ab-17b3-46ee-9ecc-cc9c09b3a559",
   "metadata": {},
   "outputs": [
    {
     "name": "stdout",
     "output_type": "stream",
     "text": [
      "Original Array: [1 2 3 4 5 6 7 8 9]\n"
     ]
    }
   ],
   "source": [
    "a1 = np.arange(1,10)\n",
    "print(\"Original Array:\",a1)"
   ]
  },
  {
   "cell_type": "code",
   "execution_count": 18,
   "id": "7e08a2f3-2db5-4725-9407-21b36c8800b2",
   "metadata": {},
   "outputs": [
    {
     "name": "stdout",
     "output_type": "stream",
     "text": [
      "Reshape Array:\n",
      " [[1 2 3]\n",
      " [4 5 6]\n",
      " [7 8 9]]\n"
     ]
    }
   ],
   "source": [
    "reshape = a1.reshape(3,3)\n",
    "print(\"Reshape Array:\\n\",reshape)"
   ]
  },
  {
   "cell_type": "code",
   "execution_count": null,
   "id": "6edf42e0-df8b-40e0-8802-dc8d51456679",
   "metadata": {},
   "outputs": [],
   "source": []
  },
  {
   "cell_type": "code",
   "execution_count": null,
   "id": "93f12954-bbbc-438a-bf69-deaf8e862fbf",
   "metadata": {},
   "outputs": [],
   "source": []
  },
  {
   "cell_type": "code",
   "execution_count": 19,
   "id": "4dcd15e1-4e92-4864-bab0-d46d2c8ca4fd",
   "metadata": {},
   "outputs": [
    {
     "name": "stdout",
     "output_type": "stream",
     "text": [
      "Flattened array: [1 2 3 4]\n"
     ]
    }
   ],
   "source": [
    "# Flatten an array\n",
    "#Convert multi-dimensional array to 1D.\n",
    "\n",
    "f1 = np.array([[1, 2], [3, 4]])\n",
    "flattened = np.ravel(f1)  # Flatten to 1D array\n",
    "print(\"Flattened array:\", flattened)"
   ]
  },
  {
   "cell_type": "code",
   "execution_count": 20,
   "id": "abeae03e-dbb0-481d-9f55-07eab4bb178e",
   "metadata": {},
   "outputs": [
    {
     "name": "stdout",
     "output_type": "stream",
     "text": [
      "Original Array:\n",
      " [[1 2 3]\n",
      " [4 5 6]]\n",
      "Flattened Array:\n",
      " [1 2 3 4 5 6]\n"
     ]
    }
   ],
   "source": [
    "arr = np.array([[1, 2, 3],\n",
    "                [4, 5, 6]])\n",
    "\n",
    "flat_arr = arr.flatten()\n",
    "\n",
    "print(\"Original Array:\\n\", arr)\n",
    "print(\"Flattened Array:\\n\", flat_arr)\n"
   ]
  },
  {
   "cell_type": "code",
   "execution_count": 21,
   "id": "a38357e5-878e-47d5-838c-677962026eb6",
   "metadata": {},
   "outputs": [
    {
     "name": "stdout",
     "output_type": "stream",
     "text": [
      "Original Array:\n",
      " [1 2 3 4 5 6]\n",
      "Flattened Array:\n",
      " [1 2 3 4 5 6]\n"
     ]
    }
   ],
   "source": [
    "arr = np.arange(1,7)\n",
    "flat_arr = arr.flatten()\n",
    "\n",
    "print(\"Original Array:\\n\", arr)\n",
    "print(\"Flattened Array:\\n\", flat_arr)\n"
   ]
  },
  {
   "cell_type": "code",
   "execution_count": null,
   "id": "00251899-5584-48d8-940e-8c94cd00089d",
   "metadata": {},
   "outputs": [],
   "source": []
  },
  {
   "cell_type": "code",
   "execution_count": 22,
   "id": "2a19eeb4-67a2-4ea2-89cd-20aaef526fdf",
   "metadata": {},
   "outputs": [
    {
     "name": "stdout",
     "output_type": "stream",
     "text": [
      "Transpose array:\n",
      " [[1 3]\n",
      " [2 4]]\n"
     ]
    }
   ],
   "source": [
    "# Transpose an array\n",
    "#Swap rows and columns.\n",
    "\n",
    "e1 = np.array([[1, 2], [3, 4]])\n",
    "transpose = np.transpose(e1)  # Transpose the array\n",
    "print(\"Transpose array:\\n\", transpose)"
   ]
  },
  {
   "cell_type": "code",
   "execution_count": 23,
   "id": "10a61d83-6b4d-4cae-903c-51b8359c7fab",
   "metadata": {},
   "outputs": [
    {
     "name": "stdout",
     "output_type": "stream",
     "text": [
      "Original Array:\n",
      " [[1 2 3]\n",
      " [4 5 6]]\n",
      "Transposed Array:\n",
      " [[1 4]\n",
      " [2 5]\n",
      " [3 6]]\n"
     ]
    }
   ],
   "source": [
    "arr = np.array([[1, 2, 3],\n",
    "                [4, 5, 6]])\n",
    "transpose_arr = arr.transpose()\n",
    "\n",
    "print(\"Original Array:\\n\", arr)\n",
    "print(\"Transposed Array:\\n\", transpose_arr)"
   ]
  },
  {
   "cell_type": "code",
   "execution_count": 24,
   "id": "4aa485ff-3a58-4c08-8316-2644f84bb7d5",
   "metadata": {},
   "outputs": [
    {
     "name": "stdout",
     "output_type": "stream",
     "text": [
      "Original Array:\n",
      " [1 2 3 4 5 6]\n",
      "Transposed Array:\n",
      " [1 2 3 4 5 6]\n"
     ]
    }
   ],
   "source": [
    "arr = np.arange(1,7)\n",
    "transpose_arr = arr.transpose()\n",
    "\n",
    "print(\"Original Array:\\n\", arr)\n",
    "print(\"Transposed Array:\\n\", transpose_arr)"
   ]
  },
  {
   "cell_type": "code",
   "execution_count": null,
   "id": "f7a5054e-42c4-41de-9aeb-f6efbf709cfc",
   "metadata": {},
   "outputs": [],
   "source": []
  },
  {
   "cell_type": "code",
   "execution_count": 25,
   "id": "279a66ac-0e33-49e7-8d64-597c6e8eb1f5",
   "metadata": {},
   "outputs": [
    {
     "name": "stdout",
     "output_type": "stream",
     "text": [
      "Stacked arrays:\n",
      " [[1 2]\n",
      " [3 4]]\n"
     ]
    }
   ],
   "source": [
    "# Stack arrays vertically\n",
    "a2 = np.array([1, 2])\n",
    "b2 = np.array([3, 4])\n",
    "stacked = np.vstack([a2, b2])  # Stack a and b vertically\n",
    "print(\"Stacked arrays:\\n\", stacked)"
   ]
  },
  {
   "cell_type": "code",
   "execution_count": 26,
   "id": "0437f277-a853-4ede-9685-359ec9c0cb16",
   "metadata": {},
   "outputs": [
    {
     "name": "stdout",
     "output_type": "stream",
     "text": [
      "4x4 Stacked Matrix:\n",
      " [[ 1  2  3  4]\n",
      " [ 5  6  7  8]\n",
      " [ 9 10 11 12]\n",
      " [13 14 15 16]]\n"
     ]
    }
   ],
   "source": [
    "# Create four 1D arrays (each with 4 elements)\n",
    "\"\"\"✔ Each 1D array becomes a row in the new matrix.\n",
    "  ✔ Final matrix has 4 rows and 4 columns → shape (4, 4).\n",
    "   Arrays must have the same number of columns for vertical stacking.\"\"\"\n",
    "\n",
    "a1 = np.array([1, 2, 3, 4])\n",
    "a2 = np.array([5, 6, 7, 8])\n",
    "a3 = np.array([9, 10, 11, 12])\n",
    "a4 = np.array([13, 14, 15, 16])\n",
    "\n",
    "# Stack vertically to form a 4x4 matrix\n",
    "stacked_matrix = np.vstack([a1, a2, a3, a4])\n",
    "\n",
    "print(\"4x4 Stacked Matrix:\\n\", stacked_matrix)\n"
   ]
  },
  {
   "cell_type": "code",
   "execution_count": 27,
   "id": "47c1fcdf-bb01-4bcc-b0bc-340a5ba7d4ec",
   "metadata": {},
   "outputs": [
    {
     "name": "stdout",
     "output_type": "stream",
     "text": [
      "[1 2 3 4 5 6]\n"
     ]
    }
   ],
   "source": [
    "# Concatenate an array\n",
    "a = np.array([1, 2, 3])\n",
    "b = np.array([4, 5, 6])\n",
    "print(np.concatenate((a, b))) "
   ]
  },
  {
   "cell_type": "code",
   "execution_count": null,
   "id": "779827ed-3240-4723-be03-e95d6c9000b8",
   "metadata": {},
   "outputs": [],
   "source": []
  },
  {
   "cell_type": "markdown",
   "id": "10715765-899b-458c-82f9-4d718aa11913",
   "metadata": {},
   "source": [
    "# 3. Mathematical Function"
   ]
  },
  {
   "cell_type": "code",
   "execution_count": 28,
   "id": "737485a4-a118-49fa-b9d2-8e7165e371ef",
   "metadata": {},
   "outputs": [
    {
     "name": "stdout",
     "output_type": "stream",
     "text": [
      "Added 2 to a: [3 4 5 6]\n"
     ]
    }
   ],
   "source": [
    "# Add two arrays\n",
    "a = np.array([1, 2, 3, 4])\n",
    "added = np.add(a, 2)  # Add 2 to each element\n",
    "print(\"Added 2 to a:\", added)"
   ]
  },
  {
   "cell_type": "code",
   "execution_count": 29,
   "id": "4551fed0-514f-4737-b35d-1d1ecdcb52c2",
   "metadata": {},
   "outputs": [
    {
     "name": "stdout",
     "output_type": "stream",
     "text": [
      "Added 2 to a1: [3 4 5 6 7 8 9]\n"
     ]
    }
   ],
   "source": [
    "# Add two arrays\n",
    "a1 = np.arange(1, 8)\n",
    "added = np.add(a1, 2)  # Add 2 to each element\n",
    "print(\"Added 2 to a1:\", added)"
   ]
  },
  {
   "cell_type": "code",
   "execution_count": 30,
   "id": "5dcb4574-62a2-41a9-b93d-d82b32b48657",
   "metadata": {},
   "outputs": [
    {
     "name": "stdout",
     "output_type": "stream",
     "text": [
      "Added 2 to a: [3 4 5 6]\n"
     ]
    }
   ],
   "source": [
    "a = np.array([1, 2, 3, 4])\n",
    "# Add 2 to each element using '+' operator (without np.add)\n",
    "added = a + 2\n",
    "print(\"Added 2 to a:\", added)"
   ]
  },
  {
   "cell_type": "code",
   "execution_count": null,
   "id": "9e561617-53a4-4d9a-8402-67add8c95324",
   "metadata": {},
   "outputs": [],
   "source": []
  },
  {
   "cell_type": "code",
   "execution_count": 31,
   "id": "2322d85c-d66c-4d45-b284-b515cd320227",
   "metadata": {},
   "outputs": [
    {
     "name": "stdout",
     "output_type": "stream",
     "text": [
      "Squared a: [ 1  4  9 16]\n"
     ]
    }
   ],
   "source": [
    "# Square each element\n",
    "a = np.array([1, 2, 3, 4])\n",
    "squared = np.power(a, 2)  # Square each element\n",
    "print(\"Squared a:\", squared)"
   ]
  },
  {
   "cell_type": "code",
   "execution_count": 32,
   "id": "0ac4b8c4-d223-422a-a487-e625fa96559a",
   "metadata": {},
   "outputs": [
    {
     "name": "stdout",
     "output_type": "stream",
     "text": [
      "Cube a: [ 1  8 27 64]\n"
     ]
    }
   ],
   "source": [
    "a = np.array([1, 2, 3, 4])\n",
    "# Cube each element using '**' operator\n",
    "cube = a ** 3\n",
    "\n",
    "print(\"Cube a:\", cube)\n"
   ]
  },
  {
   "cell_type": "code",
   "execution_count": 33,
   "id": "79b051d7-7f13-406f-a040-12dd5fac6105",
   "metadata": {},
   "outputs": [
    {
     "name": "stdout",
     "output_type": "stream",
     "text": [
      "Square root of a: [1.         1.41421356 1.73205081 2.        ]\n"
     ]
    }
   ],
   "source": [
    "# Square root of each element\n",
    "sqrt_val = np.sqrt(a)  # Square root of each element\n",
    "print(\"Square root of a:\", sqrt_val)"
   ]
  },
  {
   "cell_type": "code",
   "execution_count": 37,
   "id": "c9f9cb3c-ecf5-46eb-898e-89418df0832f",
   "metadata": {},
   "outputs": [
    {
     "name": "stdout",
     "output_type": "stream",
     "text": [
      "[1 2 3]\n",
      "[4 5 6]\n"
     ]
    }
   ],
   "source": [
    "print(a)\n",
    "print(b)"
   ]
  },
  {
   "cell_type": "code",
   "execution_count": 38,
   "id": "8e69c7e0-a674-453a-b5ec-6f3c59dafa43",
   "metadata": {},
   "outputs": [
    {
     "name": "stdout",
     "output_type": "stream",
     "text": [
      "Dot product of a and b: 32\n"
     ]
    }
   ],
   "source": [
    "# Dot product of two arrays\n",
    "\"\"\"The dot product of two 1D arrays is calculated as:\n",
    "(1 * 4) + (2 * 5) + (3 * 6) = 4 + 10 + 18 = 32\"\"\"\n",
    "\n",
    "a = np.array([1, 2, 3])\n",
    "b = np.array([4, 5, 6])\n",
    "dot_product = np.dot(a, b)   # Dot product of a and g\n",
    "print(\"Dot product of a and b:\", dot_product)"
   ]
  },
  {
   "cell_type": "code",
   "execution_count": 40,
   "id": "f616a6c7-602e-4fc2-9f5f-9c5bc0773175",
   "metadata": {},
   "outputs": [
    {
     "name": "stdout",
     "output_type": "stream",
     "text": [
      "[1 2 3]\n",
      "[1 2 3 4 5 6 7]\n"
     ]
    }
   ],
   "source": [
    "print(a)\n",
    "print(a1)"
   ]
  },
  {
   "cell_type": "code",
   "execution_count": 42,
   "id": "b2908fba-3a85-4b5d-9a0d-63b60712a476",
   "metadata": {},
   "outputs": [
    {
     "ename": "ValueError",
     "evalue": "shapes (3,) and (7,) not aligned: 3 (dim 0) != 7 (dim 0)",
     "output_type": "error",
     "traceback": [
      "\u001b[1;31m---------------------------------------------------------------------------\u001b[0m",
      "\u001b[1;31mValueError\u001b[0m                                Traceback (most recent call last)",
      "Cell \u001b[1;32mIn[42], line 3\u001b[0m\n\u001b[0;32m      1\u001b[0m \u001b[38;5;66;03m# Dot product of two arrays\u001b[39;00m\n\u001b[0;32m      2\u001b[0m a2 \u001b[38;5;241m=\u001b[39m np\u001b[38;5;241m.\u001b[39marray([\u001b[38;5;241m1\u001b[39m, \u001b[38;5;241m2\u001b[39m, \u001b[38;5;241m3\u001b[39m])\n\u001b[1;32m----> 3\u001b[0m dot_product \u001b[38;5;241m=\u001b[39m np\u001b[38;5;241m.\u001b[39mdot(a2, a1)  \u001b[38;5;66;03m# Dot product of a and g\u001b[39;00m\n\u001b[0;32m      4\u001b[0m \u001b[38;5;28mprint\u001b[39m(\u001b[38;5;124m\"\u001b[39m\u001b[38;5;124mDot product of a and a1:\u001b[39m\u001b[38;5;124m\"\u001b[39m, dot_product)\n",
      "\u001b[1;31mValueError\u001b[0m: shapes (3,) and (7,) not aligned: 3 (dim 0) != 7 (dim 0)"
     ]
    }
   ],
   "source": [
    "# Dot product of two arrays\n",
    "a2 = np.array([1, 2, 3])\n",
    "dot_product = np.dot(a2, a1)  # Dot product of a and g\n",
    "print(\"Dot product of a and a1:\", dot_product)"
   ]
  },
  {
   "cell_type": "code",
   "execution_count": null,
   "id": "c264582d-56f6-444d-be22-3a8a3bf9c0ea",
   "metadata": {},
   "outputs": [],
   "source": []
  },
  {
   "cell_type": "markdown",
   "id": "0bc0a8a9-9436-4879-8385-f064603ebe34",
   "metadata": {},
   "source": [
    "# 4. Statistical Function\n",
    "Statistical Functions in NumPy (with Examples)\n",
    "Statistical functions in NumPy are used to analyze data stored in arrays by calculating statistical measures like:\n",
    "\n",
    "Sum,\n",
    "Mean,\n",
    "Median,\n",
    "Standard deviation,\n",
    "Variance,\n",
    "Min & Max,\n",
    "Percentile, etc."
   ]
  },
  {
   "cell_type": "code",
   "execution_count": 43,
   "id": "798f3934-8d1d-4996-af1a-1dfda2fec544",
   "metadata": {},
   "outputs": [
    {
     "name": "stdout",
     "output_type": "stream",
     "text": [
      "Mean of s: 2.5\n"
     ]
    }
   ],
   "source": [
    "\"\"\"np.mean() calculates the mean (average) of array elements.\n",
    "\n",
    "Formula for Mean:\n",
    "Mean = (Sum of all elements) / (Number of elements)\"\"\"\n",
    "\n",
    "s = np.array([1, 2, 3, 4])\n",
    "mean = np.mean(s)\n",
    "print(\"Mean of s:\", mean)"
   ]
  },
  {
   "cell_type": "code",
   "execution_count": 45,
   "id": "5d051594-3c93-4351-82d8-ca6540e42a07",
   "metadata": {},
   "outputs": [
    {
     "name": "stdout",
     "output_type": "stream",
     "text": [
      "Array: [10 20 30 40 50]\n",
      "Standard Deviation: 14.142135623730951\n"
     ]
    }
   ],
   "source": [
    "\"\"\"Standard Deviation of an Array in NumPy (with Explanation & Example)\n",
    "\n",
    "What is Standard Deviation?\n",
    "Standard Deviation (SD) is a measure of how spread out the numbers are in a dataset.\n",
    "It tells you how much the numbers differ from the mean.\n",
    "Lower SD → values are close to the mean\n",
    "Higher SD → values are more spread out.\n",
    "\"\"\"\n",
    "\n",
    "arr = np.array([10, 20, 30, 40, 50])\n",
    "std_dev = np.std(arr)\n",
    "print(\"Array:\", arr)\n",
    "print(\"Standard Deviation:\", std_dev)"
   ]
  },
  {
   "cell_type": "code",
   "execution_count": null,
   "id": "24648423-33d6-42a0-896b-8b746be14c73",
   "metadata": {},
   "outputs": [],
   "source": []
  },
  {
   "cell_type": "code",
   "execution_count": 46,
   "id": "ff5ab515-7e34-4f5c-8010-bea3dd5a699b",
   "metadata": {},
   "outputs": [
    {
     "name": "stdout",
     "output_type": "stream",
     "text": [
      "Min of s: 1\n"
     ]
    }
   ],
   "source": [
    "# To find the minimum element of an array in NumPy, you can use the np.min() function or the .min() method.\n",
    "# # Minimum element of an array\n",
    "minimum = np.min(s)\n",
    "print(\"Min of s:\", minimum)"
   ]
  },
  {
   "cell_type": "code",
   "execution_count": 47,
   "id": "fe4c3c79-a26e-4902-924c-3a801c4e7a12",
   "metadata": {},
   "outputs": [
    {
     "name": "stdout",
     "output_type": "stream",
     "text": [
      "Minimum element (np.min()): 3\n",
      "Minimum element (array.min()): 3\n"
     ]
    }
   ],
   "source": [
    "arr = np.array([10, 25, 3, 40, 18])\n",
    "\n",
    "# Method 1: Using np.min()\n",
    "min_element = np.min(arr)\n",
    "\n",
    "# Method 2: Using array method\n",
    "min_element2 = arr.min()\n",
    "\n",
    "print(\"Minimum element (np.min()):\", min_element)\n",
    "print(\"Minimum element (array.min()):\", min_element2)\n"
   ]
  },
  {
   "cell_type": "code",
   "execution_count": 50,
   "id": "e556e0a3-b3fe-4bed-aa98-c8a4187edc13",
   "metadata": {},
   "outputs": [
    {
     "name": "stdout",
     "output_type": "stream",
     "text": [
      "Original 2D Array:\n",
      " [[10 20  5]\n",
      " [ 4 15 30]\n",
      " [25  8 12]]\n",
      "Minimum element per column: [4 8 5]\n"
     ]
    }
   ],
   "source": [
    "# Creating a 2D array\n",
    "# Minimum per Column in 2D Array \n",
    "\n",
    "arr = np.array([[10, 20, 5],\n",
    "                [4, 15, 30],\n",
    "                [25, 8, 12]])\n",
    "\n",
    "print(\"Original 2D Array:\\n\", arr)\n",
    "\n",
    "# Find minimum element in each column (axis=0 → column-wise)\n",
    "min_per_column = np.min(arr, axis=0)\n",
    "print(\"Minimum element per column:\", min_per_column)"
   ]
  },
  {
   "cell_type": "code",
   "execution_count": 51,
   "id": "9da863d0-af85-4803-a037-fbf896f65302",
   "metadata": {},
   "outputs": [
    {
     "name": "stdout",
     "output_type": "stream",
     "text": [
      "Original 2D Array:\n",
      " [[10 20  5]\n",
      " [ 4 15 30]\n",
      " [25  8 12]]\n",
      "Minimum element per column: [5 4 8]\n"
     ]
    }
   ],
   "source": [
    "# Minimum per Row in 2D Array\n",
    "\n",
    "arr = np.array([[10, 20, 5],\n",
    "                [4, 15, 30],\n",
    "                [25, 8, 12]])\n",
    "\n",
    "print(\"Original 2D Array:\\n\", arr)\n",
    "\n",
    "# Find minimum element in each column (axis=0 → column-wise)\n",
    "min_per_row = np.min(arr, axis=1)\n",
    "print(\"Minimum element per column:\", min_per_row)"
   ]
  },
  {
   "cell_type": "code",
   "execution_count": null,
   "id": "b2ed4bc4-6210-449c-8c72-d6981e03636f",
   "metadata": {},
   "outputs": [],
   "source": []
  },
  {
   "cell_type": "code",
   "execution_count": 53,
   "id": "d475ced5-5cb8-40ec-996f-b717c9a50915",
   "metadata": {},
   "outputs": [
    {
     "name": "stdout",
     "output_type": "stream",
     "text": [
      "Max of s: 4\n"
     ]
    }
   ],
   "source": [
    "# Maximum element of an array\n",
    "maximum = np.max(s)\n",
    "print(\"Max of s:\", maximum)"
   ]
  },
  {
   "cell_type": "code",
   "execution_count": 52,
   "id": "a3bfce96-5041-41f9-80f1-a7a30f281fc4",
   "metadata": {},
   "outputs": [
    {
     "name": "stdout",
     "output_type": "stream",
     "text": [
      "Maximum element (np.max()): 40\n",
      "Maximum element (array.max()): 40\n"
     ]
    }
   ],
   "source": [
    "# Maximum element in the array\n",
    "arr = np.array([10, 25, 3, 40, 18])\n",
    "\n",
    "# Method 1: Using np.max()\n",
    "max_element = np.max(arr)\n",
    "\n",
    "# Method 2: Using array method\n",
    "max_element2 = arr.max()\n",
    "\n",
    "print(\"Maximum element (np.max()):\", max_element)\n",
    "print(\"Maximum element (array.max()):\", max_element2)\n"
   ]
  },
  {
   "cell_type": "code",
   "execution_count": 55,
   "id": "eda89822-12c8-4d81-b58b-bea6ffdb716d",
   "metadata": {},
   "outputs": [
    {
     "name": "stdout",
     "output_type": "stream",
     "text": [
      "[1 2 3 4 5 6]\n"
     ]
    }
   ],
   "source": [
    "arr = np.arange(1,7)\n",
    "print(arr)"
   ]
  },
  {
   "cell_type": "code",
   "execution_count": 62,
   "id": "557a7496-90d3-42fc-9291-29b8af268eb9",
   "metadata": {},
   "outputs": [
    {
     "name": "stdout",
     "output_type": "stream",
     "text": [
      "[[1 2 3]\n",
      " [4 5 6]]\n"
     ]
    }
   ],
   "source": [
    "reshape=arr.reshape(2,3)\n",
    "print(reshape)"
   ]
  },
  {
   "cell_type": "code",
   "execution_count": 63,
   "id": "2b774178-4a0b-4054-be07-42e3ec3e6e9c",
   "metadata": {},
   "outputs": [
    {
     "name": "stdout",
     "output_type": "stream",
     "text": [
      "Maximum per column: [4 5 6]\n",
      "Maximum per row: [3 6]\n"
     ]
    }
   ],
   "source": [
    "print(\"Maximum per column:\", np.max(reshape, axis=0))  \n",
    "print(\"Maximum per row:\", np.max(reshape, axis=1))"
   ]
  },
  {
   "cell_type": "code",
   "execution_count": 64,
   "id": "fc2be9cc-cc8c-4a62-824c-d35bb5c0925f",
   "metadata": {},
   "outputs": [
    {
     "name": "stdout",
     "output_type": "stream",
     "text": [
      "[[1 2 3]\n",
      " [4 5 6]]\n",
      "Maximum per column: [4 5 6]\n",
      "Maximum per row: [3 6]\n"
     ]
    }
   ],
   "source": [
    "arr = np.arange(1, 7)\n",
    "reshape = arr.reshape(2, 3)\n",
    "print(reshape)\n",
    "print(\"Maximum per column:\", np.max(reshape, axis=0))  # Column-wise max\n",
    "print(\"Maximum per row:\", np.max(reshape, axis=1))     # Row-wise max\n"
   ]
  },
  {
   "cell_type": "code",
   "execution_count": null,
   "id": "5843e4b4-4bc5-4dbe-bcce-0c4e86ebb31e",
   "metadata": {},
   "outputs": [],
   "source": []
  },
  {
   "cell_type": "markdown",
   "id": "67540a88-57fa-4c0d-8524-285cfeef65ef",
   "metadata": {},
   "source": [
    "# 5. Linear Algebra Function"
   ]
  },
  {
   "cell_type": "code",
   "execution_count": 67,
   "id": "713067c3-19db-4dd8-8bff-493f9767885a",
   "metadata": {},
   "outputs": [
    {
     "name": "stdout",
     "output_type": "stream",
     "text": [
      "[[1 2]\n",
      " [3 4]]\n"
     ]
    }
   ],
   "source": [
    "# Create a matrix\n",
    "matrix = np.array([[1, 2], [3, 4]])\n",
    "print(matrix)"
   ]
  },
  {
   "cell_type": "code",
   "execution_count": 68,
   "id": "d0982d13-618e-4d7d-b6ee-381c35daa4fa",
   "metadata": {},
   "outputs": [
    {
     "name": "stdout",
     "output_type": "stream",
     "text": [
      "Original Matrix:\n",
      " [[1 2]\n",
      " [3 4]]\n",
      "\n",
      "Transpose of the Matrix:\n",
      " [[1 3]\n",
      " [2 4]]\n"
     ]
    }
   ],
   "source": [
    "# matrix.T gives the transpose of the matrix.\n",
    "# rows become column and column becomes row\n",
    "\n",
    "matrix = np.array([[1, 2],\n",
    "                   [3, 4]])\n",
    "\n",
    "print(\"Original Matrix:\\n\", matrix)\n",
    "transpose = matrix.T\n",
    "print(\"\\nTranspose of the Matrix:\\n\", transpose)"
   ]
  },
  {
   "cell_type": "code",
   "execution_count": null,
   "id": "8a822bf3-5f16-428c-be56-6a6c02760f37",
   "metadata": {},
   "outputs": [],
   "source": []
  },
  {
   "cell_type": "markdown",
   "id": "8e60a362-7010-4a8d-9ff3-62a7ab5cd853",
   "metadata": {},
   "source": [
    "#  6.Random Sampling Function"
   ]
  },
  {
   "cell_type": "code",
   "execution_count": 69,
   "id": "d79cf7ed-39dd-49c4-94f9-21c51dd61805",
   "metadata": {},
   "outputs": [
    {
     "name": "stdout",
     "output_type": "stream",
     "text": [
      "Random values: [0.91163813 0.15226855 0.90617506]\n"
     ]
    }
   ],
   "source": [
    "# Generate random values between 0 and 1\n",
    "random_vals = np.random.rand(3)  # Array of 3 random values between 0 and 1\n",
    "print(\"Random values:\", random_vals)"
   ]
  },
  {
   "cell_type": "code",
   "execution_count": 70,
   "id": "0f224da1-d26f-4dbe-88f7-78ae7fce4bcb",
   "metadata": {},
   "outputs": [
    {
     "name": "stdout",
     "output_type": "stream",
     "text": [
      "Random values: [[0.72263567 0.36368077]\n",
      " [0.60673091 0.58502355]\n",
      " [0.11249554 0.42246928]]\n"
     ]
    }
   ],
   "source": [
    "# Generate random values between 0 and 1\n",
    "random_vals = np.random.rand(3,2)  # Array of 3 random values between 0 and 1\n",
    "print(\"Random values:\", random_vals)"
   ]
  },
  {
   "cell_type": "code",
   "execution_count": null,
   "id": "18c36900-98c8-4b32-9bd4-c8531040018f",
   "metadata": {},
   "outputs": [],
   "source": []
  },
  {
   "cell_type": "code",
   "execution_count": 71,
   "id": "47f1ba0a-7d99-4d06-9c65-abe742442af7",
   "metadata": {},
   "outputs": [
    {
     "name": "stdout",
     "output_type": "stream",
     "text": [
      "Random values: [0.5488135  0.71518937 0.60276338]\n"
     ]
    }
   ],
   "source": [
    "# Set seed for reproducibility\n",
    "np.random.seed(0)\n",
    "\n",
    "# Generate random values between 0 and 1\n",
    "random_vals = np.random.rand(3)  # Array of 3 random values between 0 and 1\n",
    "print(\"Random values:\", random_vals)"
   ]
  },
  {
   "cell_type": "code",
   "execution_count": 72,
   "id": "c281c94c-233d-493e-8866-df4b6dca217e",
   "metadata": {},
   "outputs": [
    {
     "name": "stdout",
     "output_type": "stream",
     "text": [
      "Random integers: [3 7 9 3 5]\n"
     ]
    }
   ],
   "source": [
    "# Generate random integers\n",
    "rand_ints = np.random.randint(0, 10, size=5)  # Random integers between 0 and 10\n",
    "print(\"Random integers:\", rand_ints)"
   ]
  },
  {
   "cell_type": "code",
   "execution_count": 73,
   "id": "e259b125-cd2d-4b3e-a9db-e956e1e4e268",
   "metadata": {},
   "outputs": [
    {
     "name": "stdout",
     "output_type": "stream",
     "text": [
      "Random integers: [5 0 3 3 7]\n"
     ]
    }
   ],
   "source": [
    "# Set seed for reproducibility\n",
    "np.random.seed(0)\n",
    "\n",
    "# Generate random integers\n",
    "rand_ints = np.random.randint(0, 10, size=5)  # Random integers between 0 and 10\n",
    "print(\"Random integers:\", rand_ints)"
   ]
  },
  {
   "cell_type": "code",
   "execution_count": null,
   "id": "50138352-2e5e-410c-b076-e85ccfb04fda",
   "metadata": {},
   "outputs": [],
   "source": []
  },
  {
   "cell_type": "markdown",
   "id": "69163df8-4483-4388-af34-ef3b15ff0000",
   "metadata": {},
   "source": [
    "# 7. Boolean & Logical Functions"
   ]
  },
  {
   "cell_type": "code",
   "execution_count": 74,
   "id": "e6add640-2b39-422f-8cda-35c58af83808",
   "metadata": {},
   "outputs": [
    {
     "name": "stdout",
     "output_type": "stream",
     "text": [
      "All elements True: False\n"
     ]
    }
   ],
   "source": [
    "# Check if all elements are True\n",
    "# all\n",
    "logical_test = np.array([True, False, True])\n",
    "all_true = np.all(logical_test)  # Check if all are True\n",
    "print(\"All elements True:\", all_true)"
   ]
  },
  {
   "cell_type": "code",
   "execution_count": 75,
   "id": "c4455dd7-519f-4aaa-a656-714967889261",
   "metadata": {},
   "outputs": [
    {
     "name": "stdout",
     "output_type": "stream",
     "text": [
      "All elements True: False\n"
     ]
    }
   ],
   "source": [
    "# Check if all elements are True\n",
    "logical_test = np.array([True, False, True])\n",
    "all_true = np.all(logical_test)  # Check if all are True\n",
    "print(\"All elements True:\", all_true)"
   ]
  },
  {
   "cell_type": "code",
   "execution_count": 76,
   "id": "f3b69354-6a28-44b8-890f-c28110ca6dbe",
   "metadata": {},
   "outputs": [
    {
     "name": "stdout",
     "output_type": "stream",
     "text": [
      "All elements True: False\n"
     ]
    }
   ],
   "source": [
    "# Check if all elements are True\n",
    "logical_test = np.array([False, False, False])\n",
    "all_true = np.all(logical_test)  # Check if all are True\n",
    "print(\"All elements True:\", all_true)"
   ]
  },
  {
   "cell_type": "code",
   "execution_count": 77,
   "id": "2166f752-1ef4-4dae-bac3-2054a6d4d86e",
   "metadata": {},
   "outputs": [
    {
     "name": "stdout",
     "output_type": "stream",
     "text": [
      "Any elements True: False\n"
     ]
    }
   ],
   "source": [
    "# Check if any elements are True\n",
    "# any\n",
    "any_true = np.any(logical_test)  # Check if any are True\n",
    "print(\"Any elements True:\", any_true)"
   ]
  },
  {
   "cell_type": "code",
   "execution_count": null,
   "id": "2d41276d-878d-4af1-8da5-7f425efd3b10",
   "metadata": {},
   "outputs": [],
   "source": []
  },
  {
   "cell_type": "markdown",
   "id": "00bc2c4e-de3c-4dee-97bf-7ccaaf0ba31a",
   "metadata": {},
   "source": [
    "# 8. Set Operations"
   ]
  },
  {
   "cell_type": "code",
   "execution_count": 78,
   "id": "8251c268-055e-4850-a732-a66dd6ffada6",
   "metadata": {},
   "outputs": [
    {
     "name": "stdout",
     "output_type": "stream",
     "text": [
      "Intersection of a and b: [3 4]\n"
     ]
    }
   ],
   "source": [
    "# Intersection of two arrays\n",
    "set_a = np.array([1, 2, 3, 4])\n",
    "set_b = np.array([3, 4, 5, 6])\n",
    "intersection = np.intersect1d(set_a, set_b)\n",
    "print(\"Intersection of a and b:\", intersection)"
   ]
  },
  {
   "cell_type": "code",
   "execution_count": 79,
   "id": "87ac0b07-d729-4cfa-a3e4-509b52a95a6c",
   "metadata": {},
   "outputs": [
    {
     "name": "stdout",
     "output_type": "stream",
     "text": [
      "Union of a and b: [1 2 3 4 5 6]\n"
     ]
    }
   ],
   "source": [
    "# Union of two arrays\n",
    "union = np.union1d(set_a, set_b)\n",
    "print(\"Union of a and b:\", union)"
   ]
  },
  {
   "cell_type": "code",
   "execution_count": null,
   "id": "291b1f89-0318-4d51-9df7-242b3ee4f59a",
   "metadata": {},
   "outputs": [],
   "source": []
  },
  {
   "cell_type": "markdown",
   "id": "1104622e-78ab-4f8a-b50b-59d580d873b9",
   "metadata": {},
   "source": [
    "# 9. Array Attribute Function"
   ]
  },
  {
   "cell_type": "code",
   "execution_count": 80,
   "id": "384effa9-c034-4278-8261-80dae45810b3",
   "metadata": {},
   "outputs": [
    {
     "name": "stdout",
     "output_type": "stream",
     "text": [
      "Shape of a: (3,)\n",
      "Size of a: 3\n",
      "Number of dimensions of a: 1\n",
      "Data type of a: int32\n"
     ]
    }
   ],
   "source": [
    "# Array attributes\n",
    "a = np.array([1, 2, 3])\n",
    "shape = a.shape  # Shape of the array\n",
    "size = a.size    # Number of elements\n",
    "dimensions = a.ndim  # Number of dimensions\n",
    "dtype = a.dtype   # Data type of the array\n",
    "\n",
    "print(\"Shape of a:\", shape)\n",
    "print(\"Size of a:\", size)\n",
    "print(\"Number of dimensions of a:\", dimensions)\n",
    "print(\"Data type of a:\", dtype)\n"
   ]
  },
  {
   "cell_type": "code",
   "execution_count": null,
   "id": "fd389cf9-bd3d-4169-99d9-982e6c6d0f27",
   "metadata": {},
   "outputs": [],
   "source": []
  },
  {
   "cell_type": "markdown",
   "id": "9550b688-ba9e-4024-9019-e1229eb2211e",
   "metadata": {},
   "source": [
    "#  10. Other Function"
   ]
  },
  {
   "cell_type": "code",
   "execution_count": 81,
   "id": "2b9834c3-b539-49b8-8c3f-448d537e86ad",
   "metadata": {},
   "outputs": [
    {
     "name": "stdout",
     "output_type": "stream",
     "text": [
      "Copied array: [1 2 3]\n"
     ]
    }
   ],
   "source": [
    "# Create a copy of an array\n",
    "a = np.array([1, 2, 3])\n",
    "copied_array = np.copy(a)  # Create a copy of array a\n",
    "print(\"Copied array:\", copied_array)"
   ]
  },
  {
   "cell_type": "code",
   "execution_count": 82,
   "id": "41bf7f1d-e235-4e54-a66c-0582ed83d369",
   "metadata": {},
   "outputs": [
    {
     "name": "stdout",
     "output_type": "stream",
     "text": [
      "Size of a in bytes: 12\n"
     ]
    }
   ],
   "source": [
    "# Size in bytes of an array\n",
    "array_size_in_bytes = a.nbytes  # Size in bytes\n",
    "print(\"Size of a in bytes:\", array_size_in_bytes)"
   ]
  },
  {
   "cell_type": "code",
   "execution_count": null,
   "id": "a341949d-dd16-41d4-ad4b-54eb3ae3e721",
   "metadata": {},
   "outputs": [],
   "source": [
    "# Check if two arrays share memory\n",
    "shared = np.shares_memory(a, copied_array)  # Check if arrays share memory\n",
    "print(\"Do a and copied_array share memory?\", shared)"
   ]
  },
  {
   "cell_type": "code",
   "execution_count": null,
   "id": "dee63878-534d-4455-b26a-68668a7217b6",
   "metadata": {},
   "outputs": [],
   "source": []
  },
  {
   "cell_type": "code",
   "execution_count": null,
   "id": "e46b9208-90a7-45be-97df-ed1281cc0df8",
   "metadata": {},
   "outputs": [],
   "source": []
  },
  {
   "cell_type": "code",
   "execution_count": null,
   "id": "32a1800b-99e6-4ad0-aa02-2f4fcfeb2a32",
   "metadata": {},
   "outputs": [],
   "source": []
  },
  {
   "cell_type": "code",
   "execution_count": null,
   "id": "0d376d25-79c4-486b-aaf5-170c585c8ef0",
   "metadata": {},
   "outputs": [],
   "source": []
  },
  {
   "cell_type": "code",
   "execution_count": null,
   "id": "613a6613-0977-4974-b53e-e928ce0b9952",
   "metadata": {},
   "outputs": [],
   "source": []
  },
  {
   "cell_type": "code",
   "execution_count": null,
   "id": "3d42e07d-9fde-4389-8634-98bab26754f5",
   "metadata": {},
   "outputs": [],
   "source": []
  },
  {
   "cell_type": "code",
   "execution_count": null,
   "id": "f707688a-e9bc-4186-8a33-af9236cf9e02",
   "metadata": {},
   "outputs": [],
   "source": []
  },
  {
   "cell_type": "code",
   "execution_count": null,
   "id": "5a1d9713-db05-43d7-9d0c-f73595890165",
   "metadata": {},
   "outputs": [],
   "source": []
  },
  {
   "cell_type": "code",
   "execution_count": null,
   "id": "861dd8b0-03b0-4673-ba13-8d75fce4f374",
   "metadata": {},
   "outputs": [],
   "source": []
  },
  {
   "cell_type": "code",
   "execution_count": null,
   "id": "c05b4c38-795e-4407-b920-23c23bae0f1b",
   "metadata": {},
   "outputs": [],
   "source": []
  }
 ],
 "metadata": {
  "kernelspec": {
   "display_name": "Python [conda env:base] *",
   "language": "python",
   "name": "conda-base-py"
  },
  "language_info": {
   "codemirror_mode": {
    "name": "ipython",
    "version": 3
   },
   "file_extension": ".py",
   "mimetype": "text/x-python",
   "name": "python",
   "nbconvert_exporter": "python",
   "pygments_lexer": "ipython3",
   "version": "3.12.7"
  }
 },
 "nbformat": 4,
 "nbformat_minor": 5
}
